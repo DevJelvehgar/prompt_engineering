{
 "cells": [
  {
   "cell_type": "markdown",
   "id": "eb013ae8-53c0-47a1-bfc8-8546da962a65",
   "metadata": {},
   "source": [
    "## Effectively Creating Prompts"
   ]
  },
  {
   "cell_type": "markdown",
   "id": "9ae0b2b4-41a7-4a90-a6cc-e4b2ee3cbba2",
   "metadata": {
    "jp-MarkdownHeadingCollapsed": true
   },
   "source": [
    "#### <mark>1. Consider the context of your prompt, aka how do you want GPT to engage with you:</mark>"
   ]
  },
  {
   "cell_type": "markdown",
   "id": "5e5d1925-c1cf-4967-b49d-4152339bdf6e",
   "metadata": {},
   "source": [
    "- “You're going to act as”\n",
    "- “Ignore all previous instructions before this one,” \n",
    "- “Tone friendly and casual,” “Tone serious and formal,”\n",
    "- “Explain this to a 5 year old\""
   ]
  },
  {
   "cell_type": "markdown",
   "id": "3a74cb89-bcd8-4fae-893a-eb550a048791",
   "metadata": {},
   "source": [
    "##### EXP:\n",
    "`You are an exercise and health expert`. You have helped all ages of people lose weight, get in shape and `improve their \n",
    "health for 20 years`. Your task is now to give the best advice when it comes to improving someone’s health. You must \n",
    "`always ask questions before you answer`, so you can better zone in on what the questioner is seeking. `Is that \n",
    "understood?`"
   ]
  },
  {
   "cell_type": "markdown",
   "id": "8f7f3c85-250f-4259-8e2f-e67818110fde",
   "metadata": {},
   "source": [
    "##### chatGPT Output\n",
    "Yes, absolutely understood.\n",
    "\n",
    "Before giving any advice, I’ll ask the right questions to understand your goals, current condition, lifestyle, and preferences. That way, the advice I provide is tailored, practical, and sustainable for you.\n",
    "\n",
    "So, let’s get started:\n",
    "\n",
    "1. **What is your primary goal?** (e.g., weight loss, muscle gain, better energy, managing a condition like diabetes or hypertension, general fitness, mental health improvement)\n",
    "2. **How old are you, and what is your gender?**\n",
    "3. **Do you currently have any medical conditions or injuries?**\n",
    "4. **What does your current daily routine look like—work, sleep, stress levels, activity, etc.?**\n",
    "5. **How often do you exercise now, and what kind of activity do you do?**\n",
    "6. **How would you describe your diet in a typical day?**\n",
    "7. **How much time are you willing to dedicate per day or week to improving your health?**\n",
    "\n",
    "Once I have this info, I’ll give you your best next steps. Ready when you are.\n"
   ]
  },
  {
   "cell_type": "markdown",
   "id": "742030d7-67c7-4f7b-a8d6-2277a029a56d",
   "metadata": {
    "jp-MarkdownHeadingCollapsed": true
   },
   "source": [
    "#### <mark> 2.  Give your model a task to complete: </mark>"
   ]
  },
  {
   "cell_type": "markdown",
   "id": "fceb96e7-c4e0-4b24-b35e-cbf6383ebf83",
   "metadata": {},
   "source": [
    "- \"your task is to describe XYZ in XYZ words.\"\n",
    "- \"compression:\" Summarize or condense something complex into a limited format (e.g., “Explain quantum physics in under 50 words”)\n",
    "- \"decompression:\" Expand a small idea into more detail (e.g., “Take this short idea and turn it into a 500-word article”)"
   ]
  },
  {
   "cell_type": "markdown",
   "id": "5c947b5d-8e30-41cc-8aff-071ea5a889e6",
   "metadata": {},
   "source": [
    "##### EXP: \n",
    "`Your task` is to explain blockchain technology in `simple terms` using no more than `3 bullet points`."
   ]
  },
  {
   "cell_type": "markdown",
   "id": "6b1bdc85-7ca1-4751-b449-b53ade9d9f32",
   "metadata": {},
   "source": [
    "##### chatGPT Output:\n",
    "- A blockchain is a digital ledger that records transactions in a secure and transparent way.\n",
    "- Each transaction is stored in a \"block,\" and blocks are linked together in a chain, making it hard to tamper with.\n",
    "- It operates without a central authority, so everyone in the network can verify and trust the data."
   ]
  },
  {
   "cell_type": "markdown",
   "id": "33068fa2-d37a-4311-855e-ea2c108d0caf",
   "metadata": {
    "jp-MarkdownHeadingCollapsed": true
   },
   "source": [
    "#### <mark>3. Customize and be Specific: </mark>"
   ]
  },
  {
   "cell_type": "markdown",
   "id": "85b24bb9-dcb1-433e-b977-9193c243be8c",
   "metadata": {},
   "source": [
    "- do not include XYZ, or add XYZ.\n",
    "- remove this symbol/number."
   ]
  },
  {
   "cell_type": "markdown",
   "id": "48569a01-6905-409d-a693-cb414194b759",
   "metadata": {},
   "source": [
    "##### EXP:\n",
    "Rewrite this paragraph in plain English, but `do not include any numbers or symbols`, and `remove all acronyms`."
   ]
  },
  {
   "cell_type": "markdown",
   "id": "92deea3b-78f3-4539-b0ba-68a8a5f2b69c",
   "metadata": {},
   "source": [
    "##### chatGPT Output:\n",
    "Give your text and try it!"
   ]
  },
  {
   "cell_type": "markdown",
   "id": "475ccbc2-7fd4-4c09-ba89-21ad1c245eea",
   "metadata": {
    "jp-MarkdownHeadingCollapsed": true
   },
   "source": [
    "#### <mark>4. Ask questions:</mark>"
   ]
  },
  {
   "cell_type": "markdown",
   "id": "239d4a61-e6f3-4f32-b2cd-9e3c00ae54cb",
   "metadata": {},
   "source": [
    "- I don't understand point 3.\n",
    "- Explain point 3 more deeply.\n",
    "- What would that look like in a real-world example?\n",
    "- Break down answer #5 step-by-step."
   ]
  },
  {
   "cell_type": "markdown",
   "id": "5b9222ac-8ba5-4ed5-b477-0bde9b9dea0b",
   "metadata": {},
   "source": [
    "##### EXP:\n",
    "Let’s say the model gave you a list like this:\n",
    "\n",
    "**5 Steps to Improve Sleep:**\n",
    "1. Go to bed at the same time each night\n",
    "2. Limit screen time before bed\n",
    "3. Avoid caffeine late in the day\n",
    "4. Make your bedroom dark and quiet\n",
    "5. Try relaxation techniques like deep breathing\n",
    "\n",
    "**You could then prompt:**\n",
    "Break down answer #5 of this list. How exactly should I do deep breathing before sleep?"
   ]
  },
  {
   "cell_type": "markdown",
   "id": "01fc951d-4566-4dcd-9a10-cf67037ba612",
   "metadata": {},
   "source": [
    "##### ChatGPT Output:\n",
    "Step-by-Step Deep Breathing Routine for Better Sleep\n",
    "\n",
    "**1. Set the Scene**\n",
    "- Lie down in bed or sit comfortably with your back supported.\n",
    "- Dim the lights or turn them off completely.\n",
    "- Close your eyes and place one hand on your belly, the other on your chest.<br>\n",
    "\n",
    "**2. Use the 4-7-8 Breathing Method (a common and effective technique)**\n",
    "- Inhale slowly through your nose for 4 seconds.\n",
    "- Hold your breath gently for 7 seconds.\n",
    "- Exhale slowly and fully through your mouth for 8 seconds.\n",
    "- Repeat this cycle 4–6 times (or until you feel relaxed).<br>\n",
    "\n",
    "**3. Focus on Rhythm, Not Speed**\n",
    "- The goal is slow, controlled breathing, not quick or shallow breaths.\n",
    "- Your belly (not your chest) should rise as you inhale — this signals deep diaphragmatic breathing.<br>\n",
    "\n",
    "**4. Clear Your Mind**\n",
    "- As you breathe, silently repeat a calming word like \"relax\" or \"peace.\"\n",
    "- If thoughts distract you, gently bring your focus back to your breath.<br>\n",
    "\n",
    "**5. Consistency Matters**\n",
    "- Doing this every night at the same time helps train your body to relax faster.\n",
    "\n"
   ]
  },
  {
   "cell_type": "markdown",
   "id": "d6c9be0e-a93a-4700-98d9-c08b8fdc08b1",
   "metadata": {
    "jp-MarkdownHeadingCollapsed": true
   },
   "source": [
    "#### <mark>5. Consider the output: </mark>"
   ]
  },
  {
   "cell_type": "markdown",
   "id": "696b84ba-adbe-46f3-a412-053c8b33ff21",
   "metadata": {},
   "source": [
    "- Review what you got\n",
    "- Ask yourself what’s missing or wrong\n",
    "- Refine the original prompt with more context, constraints, or clarity\n",
    "- Re-run the improved version"
   ]
  },
  {
   "cell_type": "markdown",
   "id": "27412a09-2c20-40ae-b3bf-53626bba30ac",
   "metadata": {},
   "source": [
    "##### EXP:\n",
    "**Original Prompt:**\n",
    "Write about climate change.\n",
    "\n",
    "**Output:**\n",
    "A general 2-paragraph summary that doesn’t go deep.\n",
    "\n",
    "**Refined Prompt:**\n",
    "Write a `persuasive 150-word` argument about how climate change is affecting `coastal cities`, using at least one `real-world example` and `no scientific jargon.`\n",
    "\n",
    "**Improved Output:**\n",
    "A focused, powerful short essay with concrete examples, easy to understand, and purpose-driven."
   ]
  },
  {
   "cell_type": "markdown",
   "id": "82def66b-1eb3-4001-b5b8-5e68315ab611",
   "metadata": {},
   "source": [
    "##### ChatGPT Output:\n",
    "Climate change is having a severe impact on coastal cities worldwide, causing rising sea levels, stronger storms, and flooding that threaten both infrastructure and communities. For example, Miami, Florida, has experienced frequent \"sunny day flooding,\" where high tides, not storms, cause streets to flood. This is a direct result of rising sea levels, pushing saltwater into the city's streets and making it harder for residents to go about their daily lives. Additionally, the increased frequency and intensity of hurricanes, fueled by warmer ocean temperatures, endanger millions of people living near coastlines. Coastal cities are now facing the urgent need for climate adaptation strategies, like building sea walls or moving communities inland. However, these measures are expensive and often controversial. The reality is, if we don’t take swift action, many coastal cities may soon be uninhabitable, disrupting economies and displacing countless people."
   ]
  },
  {
   "cell_type": "markdown",
   "id": "28d448f7-0ff5-4259-a4eb-b3c024c5f434",
   "metadata": {},
   "source": [
    "#### <mark>6. More Unique Prompts for answers: </mark> "
   ]
  },
  {
   "cell_type": "markdown",
   "id": "76f95f57-6703-4fed-9a79-33296c2f023c",
   "metadata": {},
   "source": [
    "- What would I not think of on this topic?\n",
    "- What are some uncommon or less well known answers to this same question.\n",
    "- Give me something original around this topic that some people believe to be untrue."
   ]
  },
  {
   "cell_type": "markdown",
   "id": "ffdb7321-2754-4ff6-9f6a-7b6f99625d8c",
   "metadata": {},
   "source": [
    "## Modifiers For Better Outputs"
   ]
  },
  {
   "cell_type": "markdown",
   "id": "8ad3336c-2da1-4c07-af93-9df301cdff16",
   "metadata": {
    "jp-MarkdownHeadingCollapsed": true
   },
   "source": [
    "#### <mark> 1. Qualifiers: </mark>"
   ]
  },
  {
   "cell_type": "markdown",
   "id": "106d7290-e32a-4252-8c8d-3b4c6a3224e8",
   "metadata": {},
   "source": [
    "**Explanation:** \n",
    "Words that modify the noun or adjective they precede, offering more specificity about the extent or quantity.\n",
    "\n",
    "**Words such as:** \n",
    "“some,” “few,” “many,” “most,” “all,” “several,” “a few,” “a large number of,” “a small number of,” “numerous”\n",
    "\n",
    "**Example:**\n",
    "Prompt: Describe `some` of the challenges that urban areas face with climate change.\n",
    "\n",
    "**Explanation:** \n",
    "Using `some` qualifies the challenges, suggesting that not all challenges need to be discussed."
   ]
  },
  {
   "cell_type": "markdown",
   "id": "16dbd4bc-9ffa-4dea-90b5-957acebdceaa",
   "metadata": {
    "jp-MarkdownHeadingCollapsed": true
   },
   "source": [
    "#### <mark> 2. Adjectives: </mark>"
   ]
  },
  {
   "cell_type": "markdown",
   "id": "3e955026-f260-4fec-b04c-8012ae2c8c01",
   "metadata": {},
   "source": [
    "**Explanation:** \n",
    "Words that describe or modify nouns and pronouns, adding more detail.\n",
    "\n",
    "**Words such as:** “red,” “happy,” “large,” “exciting,” “green,” “strong,” “beautiful,” “recent,” “quick,” “dangerous”\n",
    "\n",
    "**Example:**\n",
    "Explain the benefits of a `healthy`, `balanced` diet.<br>\n",
    "an `exciting` location in New York for the weekend.\n",
    "\n",
    "**Explanation:**\n",
    "`Healthy` and `balanced` describe the type of diet."
   ]
  },
  {
   "cell_type": "markdown",
   "id": "0b7661bd-f8ab-4639-84a2-43e687cf9c00",
   "metadata": {
    "jp-MarkdownHeadingCollapsed": true
   },
   "source": [
    "#### <mark> 3. Adjectives: </mark>"
   ]
  },
  {
   "cell_type": "markdown",
   "id": "1bf40902-529d-4118-bbad-0cd5f41e0dc4",
   "metadata": {},
   "source": [
    "**Explanation:**\n",
    "Words that modify verbs, adjectives, or other adverbs, explaining how, when, where, or to what extent something happens.\n",
    "\n",
    "**Words such as:** “quickly,” “well,” “loudly,” “carefully,” “rarely,” “often,” “always,” “now,” “nearly,” “extremely,” “fast”\n",
    "\n",
    "**Example:**\n",
    "Explain how exercise affects the body when performed `regularly`.\n",
    "\n",
    "**Explanation:**\n",
    "`Regularly` is the adverb that modifies the verb `performed` showing frequency."
   ]
  },
  {
   "cell_type": "markdown",
   "id": "268ca91c-f140-4d5d-8cc8-0552fdef019d",
   "metadata": {
    "jp-MarkdownHeadingCollapsed": true
   },
   "source": [
    "#### <mark> 4. Intensifiers: </mark>"
   ]
  },
  {
   "cell_type": "markdown",
   "id": "c6f08d56-7497-4469-aea5-fac04b65dbae",
   "metadata": {},
   "source": [
    "**Explanation:**\n",
    "Words that strengthen the meaning of an adjective or adverb, making it more extreme.\n",
    "\n",
    "**Words such as:** “very,” “extremely,” “totally,” “absolutely,” “incredibly,” “really,” “highly,” “significantly,” “so,” “quite”\n",
    "\n",
    "**Example:**\n",
    "How `extremely` does lack of sleep affect mental health?\n",
    "\n",
    "**Explanation:**\n",
    "`Extremely` intensifies the effect of sleep deprivation."
   ]
  },
  {
   "cell_type": "markdown",
   "id": "e02bc6e1-ec6d-45b4-84ce-c9e723f295f6",
   "metadata": {
    "jp-MarkdownHeadingCollapsed": true
   },
   "source": [
    "#### <mark> 5. Negatives: </mark>"
   ]
  },
  {
   "cell_type": "markdown",
   "id": "7efad605-0887-4148-9333-eca667b7e759",
   "metadata": {},
   "source": [
    "**Explanation:**\n",
    "Words that negate or reverse the meaning of a statement, expressing opposition.\n",
    "\n",
    "**Words such as:** “not,” “never,” “no,” “none,” “nothing,” “nobody,” “neither,” “without,” “cannot,” “hardly”\n",
    "\n",
    "**Example:**\n",
    "What are the reasons why climate change is `not` considered a myth by scientists?\n",
    "\n",
    "**Explanation:**\n",
    "`Not` negates the idea of climate change being a myth."
   ]
  },
  {
   "cell_type": "markdown",
   "id": "9434f4aa-b9b9-49f3-9841-7aefacb1387f",
   "metadata": {},
   "source": [
    "#### <mark> 6. Number Words: </mark>"
   ]
  },
  {
   "cell_type": "markdown",
   "id": "5352df45-89d7-446e-a97d-1668c0f1cd0d",
   "metadata": {},
   "source": [
    "**Explanation:**\n",
    "Words that indicate quantity, such as “one,” “two,” “few,” or “many.”\n",
    "\n",
    "**Words such as:** “one,” “two,” “three,” “few,” “many,” “several,” “a couple,” “dozens,” “hundreds,” “a few”\n",
    "\n",
    "**Example:**\n",
    "What are the `three` most common types of renewable energy?\n",
    "\n",
    "**Explanation:**\n",
    "`Three` specifies the number of types being asked about."
   ]
  },
  {
   "cell_type": "markdown",
   "id": "5c2984ed-dcfe-456e-92eb-714bc7c3b5a2",
   "metadata": {},
   "source": [
    "#### <mark> 7. Time Words: </mark>"
   ]
  },
  {
   "cell_type": "markdown",
   "id": "fad25ec1-1ae2-4ae0-88f9-44683dfececf",
   "metadata": {},
   "source": [
    "**Explanation:**\n",
    "Words that specify when something happens or will happen, such as “now,” “soon,” “yesterday,” “today,” “later,” “always,” “often,” “soon,” “never”\n",
    "\n",
    "**Words such as:** “now,” “soon,” “yesterday,” “today,” “immediately,” “later,” “previously,” “currently,” “yet,” “already”\n",
    "\n",
    "**Example:**\n",
    "What steps can be taken `now` to mitigate the effects of climate change?\n",
    "\n",
    "**Explanation:**\n",
    "`Now` specifies that the response should focus on immediate actions."
   ]
  },
  {
   "cell_type": "markdown",
   "id": "18da00f0-9271-4c8e-b865-9d1f74fed13a",
   "metadata": {},
   "source": [
    "#### <mark> 8. Place Words: </mark>"
   ]
  },
  {
   "cell_type": "markdown",
   "id": "daf360b9-ed38-41f8-87a4-0056c8061e62",
   "metadata": {},
   "source": [
    "**Explanation:**\n",
    "Words that indicate where something is or happened, such as “here,” “there,” “everywhere.”\n",
    "\n",
    "**Words such as:** “here,” “there,” “anywhere,” “nowhere,” “everywhere,” “nearby,” “far,” “close,” “over there”\n",
    "\n",
    "**Example:**\n",
    "What are some environmental challenges faced by communities living in `coastal areas`?\n",
    "\n",
    "**Explanation:**\n",
    "`Coastal areas` uses a place modifier to focus on a specific geographic region."
   ]
  },
  {
   "cell_type": "markdown",
   "id": "a6247385-2943-4abf-93ff-e943510daebd",
   "metadata": {},
   "source": [
    "#### <mark> 9. Degree Words: </mark>"
   ]
  },
  {
   "cell_type": "markdown",
   "id": "fa19829b-2c80-415a-9f56-abad961b2fb7",
   "metadata": {},
   "source": [
    "**Explanation:**\n",
    "Words that express the extent or degree of something, like “totally,” “slightly,” or “completely.”\n",
    "\n",
    "**Words such as:** “totally,” “completely,” “slightly,” “very,” “highly,” “somewhat,” “moderately,” “extremely,” “entirely,” “partially”\n",
    "\n",
    "**Example:**\n",
    "How much do extreme weather events `completely` impact local economies?\n",
    "\n",
    "**Explanation:**\n",
    "`Completely` specifies the full extent of the impact being asked about."
   ]
  },
  {
   "cell_type": "markdown",
   "id": "5efaae69-ad37-4344-aecb-efe1c7a15c73",
   "metadata": {},
   "source": [
    "#### <mark> 10. Clarifiers: </mark>"
   ]
  },
  {
   "cell_type": "markdown",
   "id": "2e3e96a1-1803-4b02-9794-1565b06f8448",
   "metadata": {},
   "source": [
    "**Explanation:**\n",
    "Words or phrases that help explain or clarify the meaning of a term or idea.\n",
    "\n",
    "**Words such as:** “specifically,” “particularly,” “in particular,” “for example,” “i.e.,” “such as,” “that is,” “e.g.,” “namely”\n",
    "\n",
    "**Example:**\n",
    "Describe how the Internet of Things (IoT) works, `specifically` in smart homes.\n",
    "\n",
    "**Explanation:**\n",
    "The clarifier `specifically` in smart homes narrows the scope of the IoT explanation."
   ]
  },
  {
   "cell_type": "code",
   "execution_count": null,
   "id": "b4ba9131-6621-4846-bf8d-e55c5411574b",
   "metadata": {},
   "outputs": [],
   "source": []
  }
 ],
 "metadata": {
  "kernelspec": {
   "display_name": "Python 3 (ipykernel)",
   "language": "python",
   "name": "python3"
  },
  "language_info": {
   "codemirror_mode": {
    "name": "ipython",
    "version": 3
   },
   "file_extension": ".py",
   "mimetype": "text/x-python",
   "name": "python",
   "nbconvert_exporter": "python",
   "pygments_lexer": "ipython3",
   "version": "3.12.7"
  }
 },
 "nbformat": 4,
 "nbformat_minor": 5
}
