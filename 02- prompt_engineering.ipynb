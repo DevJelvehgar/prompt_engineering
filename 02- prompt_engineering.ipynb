{
 "cells": [
  {
   "cell_type": "markdown",
   "id": "1f1a0a8f-5526-496e-bd58-fb55cd777a60",
   "metadata": {},
   "source": [
    "## 01. Principles of Prompt Engineering / Make Good Prompt"
   ]
  },
  {
   "cell_type": "markdown",
   "id": "5a9b6aee-b21b-4e5e-9c26-c3671ebfb91d",
   "metadata": {},
   "source": [
    "#### 1.1 The persona that you assign to ChatGPT\n",
    "The \"persona\" is essentially who or what ChatGPT will be pretending to be in the prompt. This helps guide the tone, perspective, and type of response it generates.\n",
    "\n",
    "**Example:**\n",
    "\n",
    "**Prompt with persona:** \"You are an experienced financial advisor. Please give me five strategies for saving for retirement for someone in their 30s.\"\n",
    "\n",
    "By assigning the `persona` of an \"experienced financial advisor,\" the response will have a tone and `expertise tailored` to that role, rather than a `general or casual response`."
   ]
  },
  {
   "cell_type": "markdown",
   "id": "47be0048-ff7b-4ba7-84f9-419308c0200f",
   "metadata": {},
   "source": [
    "---------------------------------------------"
   ]
  },
  {
   "cell_type": "markdown",
   "id": "1fb540d7-3166-4400-ad41-a7778361f840",
   "metadata": {},
   "source": [
    "#### 1.2 Be Specific: The more criteria you give, the more focused the output will be.\n",
    "Specificity helps ensure that the output matches your needs closely. The more you guide the model by adding clear instructions, the less room there is for ambiguity, leading to a more accurate and relevant response.\n",
    "\n",
    "**Example:**\n",
    "\n",
    "**Vague prompt:** \"Give me some blog post ideas.\"\n",
    "\n",
    "**Specific prompt:** \"Please suggest five blog post ideas for a health and wellness website targeting beginners, with a focus on mental health, including actionable tips and strategies.\"\n",
    "\n",
    "The specific prompt provides clear direction: the `target audience` (beginners), the `focus` (mental health), and the `type of content` (actionable tips). This gives ChatGPT a well-defined framework to work within, which results in better outputs."
   ]
  },
  {
   "cell_type": "markdown",
   "id": "9a3598e4-c459-4b71-8159-3bad214bfe64",
   "metadata": {},
   "source": [
    "--------------------------------------------------"
   ]
  },
  {
   "cell_type": "markdown",
   "id": "b28a19af-21fd-4f4d-b42b-efe7affa1d68",
   "metadata": {},
   "source": [
    "#### 1.3 Work in Steps: Break tasks into small chunks. This returns better results, just as it would with a human.\n",
    "When you break a larger task into smaller, manageable pieces, it allows for more structured and detailed responses. It’s easier for both humans and AI to work on one part at a time rather than trying to tackle everything all at once.\n",
    "\n",
    "**Example:**\n",
    "\n",
    "**Large, complex task:** \"Write a comprehensive guide on how to start a business from scratch.\"\n",
    "\n",
    "**Step-by-step approach:**\n",
    "\n",
    "\"Write an introduction on why starting a business is a good idea, focusing on the potential benefits.\"\n",
    "\n",
    "\"Now, list the essential steps to legally register a business.\"\n",
    "\n",
    "\"Give me advice on creating a business plan, with an emphasis on financial forecasting.\"\n",
    "\n",
    "\"Write a section on marketing strategies for new businesses, focusing on low-cost options.\"\n",
    "\n",
    "By breaking down the task into `smaller chunks`, each section is more likely to be detailed and on point, and you can adjust or iterate each part without overwhelming the system or missing key details."
   ]
  },
  {
   "cell_type": "markdown",
   "id": "9cd68b52-71b2-411e-aa0d-022e147a40b6",
   "metadata": {},
   "source": [
    "---------------------------------------------------"
   ]
  },
  {
   "cell_type": "markdown",
   "id": "ac6c2cf1-d337-4ad6-b787-7c03a8033e75",
   "metadata": {},
   "source": [
    "#### 1.4 The information and examples you provide (your input)\n",
    "Your input, or context, greatly influences the output. Providing relevant examples, data, or background information helps ChatGPT understand what you're asking more clearly.\n",
    "\n",
    "**Example:**\n",
    "\n",
    "**Prompt without examples:** \"Can you help me write a cover letter?\"\n",
    "\n",
    "**Prompt with examples:** \"I am applying for a marketing role at a tech company. Here’s my resume: [attach resume details]. Please write a tailored cover letter highlighting my skills in digital marketing and team leadership.\"\n",
    "\n",
    "The second prompt gives context and `specifics` (job type, skills, and resume details), leading to a more relevant and `personalized` output."
   ]
  },
  {
   "cell_type": "markdown",
   "id": "0ab29020-fe18-42a2-9698-0d316732d0f9",
   "metadata": {},
   "source": [
    "-----------------------------------"
   ]
  },
  {
   "cell_type": "markdown",
   "id": "0cbbaebe-5e30-432d-b815-133d57df352c",
   "metadata": {},
   "source": [
    "#### 1.5 Iterate and Improve: Re-work the inputs and have ChatGPT improve on its own output.\n",
    "Often, the first response isn’t exactly what you're looking for. Iteration allows you to refine the output based on your needs. It involves tweaking your prompt or asking for revisions, allowing ChatGPT to improve and zero in on exactly what you want.\n",
    "\n",
    "**Example:**\n",
    "\n",
    "**Initial prompt:** \"Write a 500-word blog post on the benefits of meditation.\"\n",
    "\n",
    "**Initial output:** \"Meditation has many benefits, such as stress reduction and improved focus. It is practiced in many cultures and helps with relaxation.\"\n",
    "\n",
    "**Refined prompt:** \"Revise the previous blog post and include specific studies on the benefits of meditation, and provide a practical step-by-step guide on how to meditate effectively.\"\n",
    "\n",
    "**Improved output:** \"Numerous studies, such as the one conducted by Harvard Medical School, show that meditation can lower stress levels by decreasing cortisol production. Here’s a simple guide to start meditating: ... \"\n",
    "\n",
    "In this example, you iterated by asking for `additional details` (specific studies and a step-by-step guide), `refining` the initial output and turning it into something `more valuable and actionable`."
   ]
  },
  {
   "cell_type": "markdown",
   "id": "bd3ec4a8-946a-4f1b-84d3-d95676bb0e9b",
   "metadata": {},
   "source": [
    "------------------------------------------"
   ]
  },
  {
   "cell_type": "markdown",
   "id": "ae837240-22f3-468b-8eb0-43c9121e3163",
   "metadata": {},
   "source": [
    "#### 1.6 Put All together:\n",
    "\n",
    "**Final Prompt:**\n",
    "\n",
    "\"You are a licensed mental health professional with expertise in coping strategies for anxiety and stress management. Write a 800-word blog post aimed at beginners, focusing on practical tips for managing stress. The post should be structured as follows:\n",
    "\n",
    "Start with a 150-word introduction on why managing stress is important for mental health, and briefly mention common stressors in daily life.\n",
    "\n",
    "In the next 300 words, explain 3 effective coping strategies for beginners, such as deep breathing exercises, mindfulness, and exercise. For each strategy, provide a brief explanation and 2-3 actionable tips on how to incorporate them into daily life.\n",
    "\n",
    "Conclude with a 150-word section on how consistency is key to stress management, and give encouragement for beginners to start small and gradually build their routine.\n",
    "\n",
    "Make sure the tone is warm, approachable, and non-judgmental, avoiding jargon so that beginners feel comfortable and supported.\n",
    "\n",
    "Please revise the blog post in your next response, incorporating real-world examples or studies to back up the effectiveness of the coping strategies and adjusting the tone to be even more welcoming.\""
   ]
  },
  {
   "cell_type": "markdown",
   "id": "ca610631-bb5c-4dcb-b783-ab52ddbc8f99",
   "metadata": {
    "jp-MarkdownHeadingCollapsed": true
   },
   "source": [
    "____________________\n",
    "----------------------"
   ]
  },
  {
   "cell_type": "markdown",
   "id": "f1e18572-8244-460c-86b1-2899a4b61a90",
   "metadata": {},
   "source": [
    "## 02. Main Prompt Steps"
   ]
  },
  {
   "cell_type": "markdown",
   "id": "725e3132-c5ca-456d-9846-b785e852e334",
   "metadata": {},
   "source": [
    "#### 2.1 Define the Problem or Goal:\n",
    "This is the foundation of the entire prompting process. Clearly defining the problem or goal will ensure that you know exactly what you want ChatGPT to do. Without a precise goal, the output will likely be vague, irrelevant, or incomplete.\n",
    "\n",
    "**Example:**\n",
    "If your goal is to get blog post ideas for a tech website:\n",
    "\n",
    "**Goal:** \"I need blog post ideas for a tech website.\"\n",
    "\n",
    "**Better-defined goal:** \"I need five blog post ideas for a tech website, specifically focusing on emerging AI technologies for beginners.\"\n",
    "\n",
    "The second version is `much clearer` because it tells ChatGPT exactly what the content `should focus` on (AI technologies) and the `target audience` (beginners)."
   ]
  },
  {
   "cell_type": "markdown",
   "id": "ae18a668-ab54-4f80-9af4-327103acc418",
   "metadata": {},
   "source": [
    "-----------------------------------------------"
   ]
  },
  {
   "cell_type": "markdown",
   "id": "05832007-a8c2-49f0-a871-614577015e07",
   "metadata": {},
   "source": [
    "#### 2.2 Use Relevant Keywords and Phrases:\n",
    "Here, you input industry-specific or topic-specific terms that help guide ChatGPT toward generating the right type of response. Keywords provide context and allow ChatGPT to understand the domain and refine its output.\n",
    "\n",
    "**Example:**\n",
    "If you're working on a prompt for creating a marketing strategy:\n",
    "\n",
    "**Keywords/Phrases:** \"digital marketing,\" \"social media strategy,\" \"target audience,\" \"ROI (Return on Investment).\"\n",
    "\n",
    "Using these keywords in the prompt will signal to ChatGPT that the `response should focus on marketing techniques`, `specifically digital channels and measurable outcomes`."
   ]
  },
  {
   "cell_type": "markdown",
   "id": "9cc19210-4b85-4e72-a3bd-c41ee31e5290",
   "metadata": {},
   "source": [
    "----------------------------------"
   ]
  },
  {
   "cell_type": "markdown",
   "id": "717ba490-1502-4d39-9317-0354edda63d3",
   "metadata": {},
   "source": [
    "#### 2.3 Write the Prompt:\n",
    "At this step, you combine the problem/goal and the relevant keywords into a clear and concise prompt. The goal is to communicate the information and task clearly so that ChatGPT can produce an accurate, useful response.\n",
    "\n",
    "**Example:**\n",
    "Based on the earlier steps, let’s say you want a strategy for a digital marketing campaign for a new e-commerce store. Here's how the prompt would look:\n",
    "\n",
    "**Prompt:** \"You are a digital marketing expert. Create a detailed social media marketing strategy for a new e-commerce store selling eco-friendly products. The strategy should target a young, environmentally-conscious audience and include tactics for Instagram and TikTok. Include KPIs to measure the ROI and engagement rates.\"\n",
    "\n",
    "This prompt is `clear, concise, and communicates` the problem/goal (a marketing strategy for an eco-friendly e-commerce store) using relevant keywords (social media marketing, Instagram, TikTok, ROI, engagement rates)."
   ]
  },
  {
   "cell_type": "markdown",
   "id": "b90e148e-7aaf-4bc0-acdd-da98c25fff60",
   "metadata": {},
   "source": [
    "----------------------------------------"
   ]
  },
  {
   "cell_type": "markdown",
   "id": "9952fde8-bb53-4a81-861e-da7e09b61c7c",
   "metadata": {},
   "source": [
    "#### 2.4 Test, Evaluate, and Iterate:\n",
    "This is where the refinement process comes in. Once you’ve generated a response from ChatGPT, you evaluate how well it meets your needs. If the output isn’t exactly what you expected, you refine the prompt and try again.\n",
    "\n",
    "For example, after receiving a response, you might realize that ChatGPT didn’t focus enough on measuring ROI or didn’t include specific audience insights. You can adjust your prompt like this:\n",
    "\n",
    "**Revised prompt:** \"You are a digital marketing expert. Create a comprehensive social media strategy for a new e-commerce store selling eco-friendly products. Focus on Instagram and TikTok, targeting environmentally-conscious young adults. Ensure the strategy includes detailed audience insights, a content calendar, engagement tactics, and specific KPIs for measuring ROI and performance.\"\n",
    "\n",
    "In this step, testing and iterating allows you to `refine` the prompt until the response consistently meets your needs."
   ]
  },
  {
   "cell_type": "markdown",
   "id": "058d1328-6ca0-4406-8dfb-93d7e61be741",
   "metadata": {},
   "source": [
    "------------------------------------------------------"
   ]
  },
  {
   "cell_type": "markdown",
   "id": "4e5e7241-b54c-489c-9efa-de5216cf39ab",
   "metadata": {},
   "source": [
    "#### 2.5 Puts all togethar\n",
    "\n",
    "**Scenario: You want to generate a marketing plan for an online store selling sustainable fashion to a millennial audience.**\n",
    "\n",
    "**1. Define the Problem or Goal:**\n",
    "\n",
    "The goal is clear: you need a marketing plan that targets a millennial audience for an online store selling sustainable fashion. The focus should be on increasing brand awareness and sales.\n",
    "\n",
    "**2. Use Relevant Keywords and Phrases:**\n",
    "\n",
    "Here, the relevant keywords and phrases would be:\n",
    "\n",
    "Sustainable fashion\n",
    "\n",
    "Millennial audience\n",
    "\n",
    "Brand awareness\n",
    "\n",
    "Social media marketing\n",
    "\n",
    "Influencer partnerships\n",
    "\n",
    "SEO (Search Engine Optimization)\n",
    "\n",
    "Email marketing\n",
    "\n",
    "E-commerce strategies\n",
    "\n",
    "These keywords will help focus the response on the topic of sustainable fashion marketing for millennials, and include specific marketing tactics.\n",
    "\n",
    "**3. Write the Prompt:**\n",
    "\n",
    "Now, let's craft the prompt incorporating the goal and keywords.\n",
    "\n",
    "Prompt:\n",
    "\"You are an expert marketing strategist. Create a detailed digital marketing plan for a new online store selling sustainable fashion. The target audience is millennials who are environmentally conscious. The plan should focus on increasing brand awareness and driving sales. Please include specific strategies for social media marketing (Instagram, TikTok), influencer partnerships, SEO, and email marketing. Provide a content calendar for social media, actionable steps for influencer collaborations, and key performance indicators (KPIs) to measure the success of each channel.\"\n",
    "\n",
    "**4. Test, Evaluate, and Iterate:**\n",
    "\n",
    "After generating the first response, you evaluate whether it meets your needs. If the response is missing specific details, you refine the prompt.\n",
    "\n",
    "`Example of refinement:`\n",
    "\n",
    "Initial output: The plan includes general strategies, but lacks detailed audience insights and specific KPIs for each platform.\n",
    "\n",
    "Refined prompt:\n",
    "\"You are an expert marketing strategist. Create a comprehensive digital marketing plan for a new online store selling sustainable fashion to environmentally-conscious millennials. Focus on Instagram, TikTok, and email marketing to drive brand awareness and sales. Include audience insights, a content calendar with posting frequency for each platform, influencer collaboration strategies with specific examples, and KPIs such as engagement rates, click-through rates, and conversion rates for each marketing channel.\"\n",
    "\n",
    "\n",
    "**Final Prompt Combining All Steps:**\n",
    "\n",
    "Prompt Example:\n",
    "\n",
    "\"You are an expert marketing strategist. Create a detailed digital marketing plan for a new online store selling sustainable fashion. The target audience is millennials who are environmentally conscious. The plan should focus on increasing brand awareness and driving sales. Please include specific strategies for social media marketing (Instagram, TikTok), influencer partnerships, SEO, and email marketing. Provide a content calendar for social media with suggested posting frequency for each platform, actionable steps for influencer collaborations with example influencers, and key performance indicators (KPIs) to measure success on each channel (e.g., engagement rates, click-through rates, conversion rates). Ensure the strategies align with the sustainable fashion brand's values and tone.\"\n",
    "\n",
    "\n",
    "**Explanation:**\n",
    "\n",
    "Step 1 (Define the Problem or Goal): We defined the problem—creating a marketing plan to increase brand awareness and sales for a sustainable fashion store targeting millennials.\n",
    "\n",
    "Step 2 (Use Relevant Keywords and Phrases): We included keywords like sustainable fashion, millennials, social media marketing, and KPIs to guide ChatGPT's response.\n",
    "\n",
    "Step 3 (Write the Prompt): We crafted a clear, concise prompt that communicates the task and provides sufficient context, using the relevant keywords.\n",
    "\n",
    "Step 4 (Test, Evaluate, and Iterate): We identified areas where the initial response might fall short (lack of audience insights, specific KPIs) and refined the prompt to focus on those areas.\n",
    "\n",
    "By following these steps, we created a prompt that guides ChatGPT toward generating a detailed, useful, and relevant marketing plan.\n"
   ]
  },
  {
   "cell_type": "code",
   "execution_count": null,
   "id": "9f4be403-5ea1-4767-8f8f-0a3dcff39423",
   "metadata": {},
   "outputs": [],
   "source": []
  }
 ],
 "metadata": {
  "kernelspec": {
   "display_name": "Python 3 (ipykernel)",
   "language": "python",
   "name": "python3"
  },
  "language_info": {
   "codemirror_mode": {
    "name": "ipython",
    "version": 3
   },
   "file_extension": ".py",
   "mimetype": "text/x-python",
   "name": "python",
   "nbconvert_exporter": "python",
   "pygments_lexer": "ipython3",
   "version": "3.12.7"
  }
 },
 "nbformat": 4,
 "nbformat_minor": 5
}
